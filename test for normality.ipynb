{
 "cells": [
  {
   "cell_type": "code",
   "execution_count": 4,
   "id": "9130eec3",
   "metadata": {},
   "outputs": [],
   "source": [
    "import numpy as np\n",
    "import pandas as pd\n",
    "from scipy.stats import shapiro"
   ]
  },
  {
   "cell_type": "code",
   "execution_count": 3,
   "id": "49e92280",
   "metadata": {},
   "outputs": [],
   "source": [
    "### create data by generating random sample\n",
    "rainfall_in_mm=np.random.random(200)*100"
   ]
  },
  {
   "cell_type": "code",
   "execution_count": 8,
   "id": "fa3a8c01",
   "metadata": {},
   "outputs": [],
   "source": [
    "#the null and the alternte hypohesis of shapiro wilk test are as follows\n",
    "#Ho=the data is normally distributed\n",
    "#AGAINST\n",
    "#Ha=the data is not normally distributed"
   ]
  },
  {
   "cell_type": "code",
   "execution_count": 7,
   "id": "328a4738",
   "metadata": {},
   "outputs": [
    {
     "name": "stdout",
     "output_type": "stream",
     "text": [
      "the test staistics is 0.9711148142814636 and its p value is 0.00038829765981063247\n"
     ]
    }
   ],
   "source": [
    "stats,p=shapiro(rainfall_in_mm)\n",
    "print(\"the test staistics is\",stats,'and its p value is',p)"
   ]
  },
  {
   "cell_type": "code",
   "execution_count": null,
   "id": "d72a469b",
   "metadata": {},
   "outputs": [],
   "source": []
  }
 ],
 "metadata": {
  "kernelspec": {
   "display_name": "Python 3",
   "language": "python",
   "name": "python3"
  },
  "language_info": {
   "codemirror_mode": {
    "name": "ipython",
    "version": 3
   },
   "file_extension": ".py",
   "mimetype": "text/x-python",
   "name": "python",
   "nbconvert_exporter": "python",
   "pygments_lexer": "ipython3",
   "version": "3.8.8"
  }
 },
 "nbformat": 4,
 "nbformat_minor": 5
}
