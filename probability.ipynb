{
 "cells": [
  {
   "cell_type": "markdown",
   "id": "f40b874a",
   "metadata": {},
   "source": [
    "### probability"
   ]
  },
  {
   "cell_type": "code",
   "execution_count": 1,
   "id": "2e1f5841",
   "metadata": {},
   "outputs": [
    {
     "name": "stdout",
     "output_type": "stream",
     "text": [
      "the probability of drawing an jack 8.0%\n"
     ]
    }
   ],
   "source": [
    "# 52 cards\n",
    "# 4 jacks\n",
    "# calculate the probability of drawing an jack\n",
    "cards = 52\n",
    "jack = 4\n",
    "jack_pro = jack / cards\n",
    "print(\"the probability of drawing an jack {}%\".format(round(jack_pro, 2)*100))\n"
   ]
  },
  {
   "cell_type": "code",
   "execution_count": 7,
   "id": "d223c180",
   "metadata": {},
   "outputs": [],
   "source": [
    "cards = 52\n",
    "cards_drawn = 1\n",
    "cards = cards - cards_drawn\n",
    "def event_probability(event_outcomes,sample_space):\n",
    "    prob = (event_outcomes/sample_space)*100\n",
    "    return round(prob, 1)"
   ]
  },
  {
   "cell_type": "code",
   "execution_count": 9,
   "id": "27ab314f",
   "metadata": {},
   "outputs": [
    {
     "name": "stdout",
     "output_type": "stream",
     "text": [
      "there  is a 7.8% chance of drawing an ace after  drawing an king on the first draw\n"
     ]
    }
   ],
   "source": [
    "aces = 4\n",
    "ace_prob1 = event_probability(aces, cards)\n",
    "print(\"there  is a {}% chance of drawing an ace after  drawing an king on the first draw\".format(ace_prob1))\n"
   ]
  },
  {
   "cell_type": "code",
   "execution_count": 12,
   "id": "eb2814bc",
   "metadata": {},
   "outputs": [
    {
     "name": "stdout",
     "output_type": "stream",
     "text": [
      "there  is a 5.9% chance of drawing an ace after  drawing an ace on the first draw\n"
     ]
    }
   ],
   "source": [
    "aces_drawn = 1\n",
    "aces = aces - aces_drawn\n",
    "ace_prob2 = event_probability(aces, cards)\n",
    "print(\"there  is a {}% chance of drawing an ace after  drawing an ace on the first draw\".format(ace_prob2))"
   ]
  },
  {
   "cell_type": "code",
   "execution_count": 14,
   "id": "140dd76a",
   "metadata": {},
   "outputs": [
    {
     "name": "stdout",
     "output_type": "stream",
     "text": [
      "there is a 23.4% chance of drawing an ace, a king, a queen\n"
     ]
    }
   ],
   "source": [
    "aces = 4\n",
    "king = 4 \n",
    "queen = 4 \n",
    "ace_king_queen = event_probability(aces , cards)+ event_probability(king , cards)+ event_probability(queen , cards)\n",
    "print(\"there is a {}% chance of drawing an ace, a king, a queen\".format(ace_king_queen))\n"
   ]
  },
  {
   "cell_type": "code",
   "execution_count": 17,
   "id": "12df5227",
   "metadata": {},
   "outputs": [
    {
     "name": "stdout",
     "output_type": "stream",
     "text": [
      "there is roughly 30.8% chance of drawing a heart or an ace\n"
     ]
    }
   ],
   "source": [
    "cards = 52\n",
    "hearts = 13\n",
    "aces = 4 \n",
    "ace_of_hearts = 1\n",
    "hearts_or_ace = event_probability(hearts, cards) +\\\n",
    "                event_probability(aces, cards) -\\\n",
    "                event_probability(ace_of_hearts, cards)\n",
    "print(\"there is roughly {}% chance of drawing a heart or an ace\".format(round(hearts_or_ace,1)))\n"
   ]
  },
  {
   "cell_type": "code",
   "execution_count": null,
   "id": "0dd27b19",
   "metadata": {},
   "outputs": [],
   "source": []
  }
 ],
 "metadata": {
  "kernelspec": {
   "display_name": "Python 3",
   "language": "python",
   "name": "python3"
  },
  "language_info": {
   "codemirror_mode": {
    "name": "ipython",
    "version": 3
   },
   "file_extension": ".py",
   "mimetype": "text/x-python",
   "name": "python",
   "nbconvert_exporter": "python",
   "pygments_lexer": "ipython3",
   "version": "3.8.8"
  }
 },
 "nbformat": 4,
 "nbformat_minor": 5
}
