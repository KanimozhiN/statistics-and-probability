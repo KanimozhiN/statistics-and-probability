{
 "cells": [
  {
   "cell_type": "markdown",
   "id": "c8f62f5c",
   "metadata": {},
   "source": [
    "### NORMAL DISTRIBUTION"
   ]
  },
  {
   "cell_type": "code",
   "execution_count": 4,
   "id": "ce4cebcc",
   "metadata": {},
   "outputs": [],
   "source": [
    "import numpy as np\n",
    "import scipy.stats as stats\n",
    "import matplotlib.pyplot as plt"
   ]
  },
  {
   "cell_type": "code",
   "execution_count": 5,
   "id": "4b3dc400",
   "metadata": {},
   "outputs": [],
   "source": [
    "# the mean weight of a morning breakfast cereal pack is 0.025 kg. The random variable weight of the pack follows a normal distribution \n",
    "# a) what is the probability that the pack weights less that 0.280 kg?\n",
    "# b) what is the probability that the pack weights more that 0.350 kg?\n",
    "# c) what is the probability that the pack weights between 0.260 kg to 0.340 kg?\n"
   ]
  },
  {
   "cell_type": "code",
   "execution_count": 6,
   "id": "4fa323b1",
   "metadata": {},
   "outputs": [
    {
     "data": {
      "text/plain": [
       "-0.5999999999999983"
      ]
     },
     "execution_count": 6,
     "metadata": {},
     "output_type": "execute_result"
    }
   ],
   "source": [
    "#a) calculate the z value\n",
    "z=(0.280-0.295)/0.025\n",
    "z"
   ]
  },
  {
   "cell_type": "code",
   "execution_count": 7,
   "id": "5383ce12",
   "metadata": {},
   "outputs": [
    {
     "data": {
      "text/plain": [
       "0.2742531177500741"
      ]
     },
     "execution_count": 7,
     "metadata": {},
     "output_type": "execute_result"
    }
   ],
   "source": [
    "stats.norm.cdf(z)"
   ]
  },
  {
   "cell_type": "code",
   "execution_count": 8,
   "id": "477a8470",
   "metadata": {},
   "outputs": [
    {
     "data": {
      "text/plain": [
       "0.2742531177500741"
      ]
     },
     "execution_count": 8,
     "metadata": {},
     "output_type": "execute_result"
    }
   ],
   "source": [
    "stats.norm.cdf(0.280,loc=0.295,scale=0.025)"
   ]
  },
  {
   "cell_type": "code",
   "execution_count": 9,
   "id": "af7749d7",
   "metadata": {},
   "outputs": [
    {
     "data": {
      "text/plain": [
       "0.01390344751349859"
      ]
     },
     "execution_count": 9,
     "metadata": {},
     "output_type": "execute_result"
    }
   ],
   "source": [
    "#b)\n",
    "1-stats.norm.cdf(0.350,loc=0.295,scale=0.025)"
   ]
  },
  {
   "cell_type": "code",
   "execution_count": 11,
   "id": "e56609d1",
   "metadata": {},
   "outputs": [
    {
     "data": {
      "text/plain": [
       "0.8833130216533032"
      ]
     },
     "execution_count": 11,
     "metadata": {},
     "output_type": "execute_result"
    }
   ],
   "source": [
    "#c)\n",
    "stats.norm.cdf(0.340,loc=0.295,scale=0.025)-stats.norm.cdf(0.260,loc=0.295,scale=0.025)"
   ]
  },
  {
   "cell_type": "code",
   "execution_count": 12,
   "id": "7536a440",
   "metadata": {},
   "outputs": [
    {
     "data": {
      "text/plain": [
       "0.9544997361036416"
      ]
     },
     "execution_count": 12,
     "metadata": {},
     "output_type": "execute_result"
    }
   ],
   "source": [
    "stats.norm.cdf(2)-stats.norm.cdf(-2)"
   ]
  },
  {
   "cell_type": "code",
   "execution_count": 13,
   "id": "d3d3a885",
   "metadata": {},
   "outputs": [
    {
     "data": {
      "text/plain": [
       "0.6826894921370859"
      ]
     },
     "execution_count": 13,
     "metadata": {},
     "output_type": "execute_result"
    }
   ],
   "source": [
    "stats.norm.cdf(1)-stats.norm.cdf(-1)"
   ]
  },
  {
   "cell_type": "code",
   "execution_count": 14,
   "id": "26e6692a",
   "metadata": {},
   "outputs": [
    {
     "data": {
      "text/plain": [
       "0.9973002039367398"
      ]
     },
     "execution_count": 14,
     "metadata": {},
     "output_type": "execute_result"
    }
   ],
   "source": [
    "stats.norm.cdf(3)-stats.norm.cdf(-3)"
   ]
  },
  {
   "cell_type": "code",
   "execution_count": null,
   "id": "86674465",
   "metadata": {},
   "outputs": [],
   "source": []
  }
 ],
 "metadata": {
  "kernelspec": {
   "display_name": "Python 3",
   "language": "python",
   "name": "python3"
  },
  "language_info": {
   "codemirror_mode": {
    "name": "ipython",
    "version": 3
   },
   "file_extension": ".py",
   "mimetype": "text/x-python",
   "name": "python",
   "nbconvert_exporter": "python",
   "pygments_lexer": "ipython3",
   "version": "3.8.8"
  }
 },
 "nbformat": 4,
 "nbformat_minor": 5
}
