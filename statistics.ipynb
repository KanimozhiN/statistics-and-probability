{
 "cells": [
  {
   "cell_type": "code",
   "execution_count": 1,
   "id": "7d42c88c",
   "metadata": {},
   "outputs": [],
   "source": [
    "import numpy as np\n",
    "import pandas as pd\n",
    "from scipy import stats"
   ]
  },
  {
   "cell_type": "markdown",
   "id": "0c6db73b",
   "metadata": {},
   "source": [
    "### Mean"
   ]
  },
  {
   "cell_type": "code",
   "execution_count": 3,
   "id": "91f42d27",
   "metadata": {},
   "outputs": [],
   "source": [
    "a=[180, 313, 101, 255, 202, 198, 109, 183, 181, 113, 171, 165, 318, 145, 131, 145, 226, 113, 268, 108]"
   ]
  },
  {
   "cell_type": "code",
   "execution_count": 5,
   "id": "de041f53",
   "metadata": {},
   "outputs": [
    {
     "data": {
      "text/plain": [
       "181.25"
      ]
     },
     "execution_count": 5,
     "metadata": {},
     "output_type": "execute_result"
    }
   ],
   "source": [
    "b=np.mean(a)\n",
    "b"
   ]
  },
  {
   "cell_type": "code",
   "execution_count": 7,
   "id": "d7a575a2",
   "metadata": {},
   "outputs": [
    {
     "data": {
      "text/plain": [
       "0.0"
      ]
     },
     "execution_count": 7,
     "metadata": {},
     "output_type": "execute_result"
    }
   ],
   "source": [
    "c=np.std(b)\n",
    "c"
   ]
  },
  {
   "cell_type": "code",
   "execution_count": 8,
   "id": "df2f1cdc",
   "metadata": {},
   "outputs": [
    {
     "data": {
      "text/plain": [
       "181.25"
      ]
     },
     "execution_count": 8,
     "metadata": {},
     "output_type": "execute_result"
    }
   ],
   "source": [
    "b-c"
   ]
  },
  {
   "cell_type": "code",
   "execution_count": 3,
   "id": "a88a8af3",
   "metadata": {},
   "outputs": [
    {
     "name": "stdout",
     "output_type": "stream",
     "text": [
      "mean: 3.0\n"
     ]
    }
   ],
   "source": [
    "a=[1,2,3,4,5]\n",
    "print(\"mean:\",np.mean(a))\n"
   ]
  },
  {
   "cell_type": "code",
   "execution_count": 4,
   "id": "a6fe800e",
   "metadata": {},
   "outputs": [
    {
     "name": "stdout",
     "output_type": "stream",
     "text": [
      "mean: 85.83333333333333\n"
     ]
    }
   ],
   "source": [
    "b=[1,2,3,4,5,500]\n",
    "print(\"mean:\",np.mean(b))\n"
   ]
  },
  {
   "cell_type": "code",
   "execution_count": 5,
   "id": "f56d57fa",
   "metadata": {},
   "outputs": [
    {
     "name": "stdout",
     "output_type": "stream",
     "text": [
      "mean: 48.833333333333336\n"
     ]
    }
   ],
   "source": [
    "c=[7,4,21,81,64,116]\n",
    "print(\"mean:\",np.mean(c))\n"
   ]
  },
  {
   "cell_type": "code",
   "execution_count": 6,
   "id": "c5c04a0b",
   "metadata": {},
   "outputs": [
    {
     "name": "stdout",
     "output_type": "stream",
     "text": [
      "mean: 45.25\n"
     ]
    }
   ],
   "source": [
    "d=[12,16,84,69]\n",
    "print(\"mean:\",np.mean(d))\n"
   ]
  },
  {
   "cell_type": "markdown",
   "id": "4bae2560",
   "metadata": {},
   "source": [
    "### Median"
   ]
  },
  {
   "cell_type": "code",
   "execution_count": 8,
   "id": "7458dab0",
   "metadata": {
    "scrolled": true
   },
   "outputs": [
    {
     "name": "stdout",
     "output_type": "stream",
     "text": [
      "median: 3.0\n"
     ]
    }
   ],
   "source": [
    "a=[1,2,3,4,5]\n",
    "print(\"median:\",np.median(a))\n"
   ]
  },
  {
   "cell_type": "code",
   "execution_count": 9,
   "id": "4115695d",
   "metadata": {},
   "outputs": [
    {
     "name": "stdout",
     "output_type": "stream",
     "text": [
      "median: 3.5\n"
     ]
    }
   ],
   "source": [
    "b=[1,2,3,4,5,500]\n",
    "print(\"median:\",np.median(b))\n"
   ]
  },
  {
   "cell_type": "code",
   "execution_count": 10,
   "id": "54421e95",
   "metadata": {},
   "outputs": [
    {
     "name": "stdout",
     "output_type": "stream",
     "text": [
      "median: 42.5\n"
     ]
    }
   ],
   "source": [
    "c=[7,4,21,81,64,116]\n",
    "print(\"median:\",np.median(c))\n"
   ]
  },
  {
   "cell_type": "code",
   "execution_count": 11,
   "id": "459ac8b3",
   "metadata": {},
   "outputs": [
    {
     "name": "stdout",
     "output_type": "stream",
     "text": [
      "median: 42.5\n"
     ]
    }
   ],
   "source": [
    "d=[12,16,84,69]\n",
    "print(\"median:\",np.median(d))\n"
   ]
  },
  {
   "cell_type": "markdown",
   "id": "07788ad0",
   "metadata": {},
   "source": [
    "### Mode"
   ]
  },
  {
   "cell_type": "code",
   "execution_count": 17,
   "id": "baa5440a",
   "metadata": {},
   "outputs": [
    {
     "data": {
      "text/plain": [
       "ModeResult(mode=array([1]), count=array([2]))"
      ]
     },
     "execution_count": 17,
     "metadata": {},
     "output_type": "execute_result"
    }
   ],
   "source": [
    "e=[1,1,7,5,6]\n",
    "stats.mode(e)"
   ]
  },
  {
   "cell_type": "code",
   "execution_count": 18,
   "id": "a8d8c793",
   "metadata": {},
   "outputs": [
    {
     "data": {
      "text/plain": [
       "ModeResult(mode=array([1]), count=array([2]))"
      ]
     },
     "execution_count": 18,
     "metadata": {},
     "output_type": "execute_result"
    }
   ],
   "source": [
    "f=[1,1,7,5,6,4]\n",
    "stats.mode(f)"
   ]
  },
  {
   "cell_type": "markdown",
   "id": "4fee3103",
   "metadata": {},
   "source": [
    "### Quartile"
   ]
  },
  {
   "cell_type": "code",
   "execution_count": 25,
   "id": "0a019439",
   "metadata": {},
   "outputs": [
    {
     "data": {
      "text/plain": [
       "2.0"
      ]
     },
     "execution_count": 25,
     "metadata": {},
     "output_type": "execute_result"
    }
   ],
   "source": [
    "q=[1,2,3,4,5]\n",
    "q1=np.quantile(q,0.25)\n",
    "q1"
   ]
  },
  {
   "cell_type": "code",
   "execution_count": 26,
   "id": "80cfa868",
   "metadata": {},
   "outputs": [
    {
     "data": {
      "text/plain": [
       "3.0"
      ]
     },
     "execution_count": 26,
     "metadata": {},
     "output_type": "execute_result"
    }
   ],
   "source": [
    "q2=np.quantile(q,0.50)\n",
    "q2"
   ]
  },
  {
   "cell_type": "code",
   "execution_count": 28,
   "id": "bf82677b",
   "metadata": {},
   "outputs": [
    {
     "data": {
      "text/plain": [
       "4.0"
      ]
     },
     "execution_count": 28,
     "metadata": {},
     "output_type": "execute_result"
    }
   ],
   "source": [
    "q3=np.quantile(q,0.75)\n",
    "q3"
   ]
  },
  {
   "cell_type": "code",
   "execution_count": 31,
   "id": "87261587",
   "metadata": {},
   "outputs": [
    {
     "data": {
      "text/plain": [
       "1.75"
      ]
     },
     "execution_count": 31,
     "metadata": {},
     "output_type": "execute_result"
    }
   ],
   "source": [
    "q4=[1,2,3,4]\n",
    "q5=np.quantile(q4,0.25)\n",
    "q5"
   ]
  },
  {
   "cell_type": "code",
   "execution_count": 32,
   "id": "e9ae06d5",
   "metadata": {},
   "outputs": [
    {
     "data": {
      "text/plain": [
       "2.5"
      ]
     },
     "execution_count": 32,
     "metadata": {},
     "output_type": "execute_result"
    }
   ],
   "source": [
    "q6=np.quantile(q4,0.50)\n",
    "q6"
   ]
  },
  {
   "cell_type": "code",
   "execution_count": 33,
   "id": "c19e88dc",
   "metadata": {},
   "outputs": [
    {
     "data": {
      "text/plain": [
       "3.25"
      ]
     },
     "execution_count": 33,
     "metadata": {},
     "output_type": "execute_result"
    }
   ],
   "source": [
    "q7=np.quantile(q4,0.75)\n",
    "q7"
   ]
  },
  {
   "cell_type": "markdown",
   "id": "86c73e0f",
   "metadata": {},
   "source": [
    "### Deciles"
   ]
  },
  {
   "cell_type": "code",
   "execution_count": 37,
   "id": "d4f2ee6f",
   "metadata": {},
   "outputs": [
    {
     "data": {
      "text/plain": [
       "1.4"
      ]
     },
     "execution_count": 37,
     "metadata": {},
     "output_type": "execute_result"
    }
   ],
   "source": [
    "q1=np.quantile(q,0.10)\n",
    "q1"
   ]
  },
  {
   "cell_type": "code",
   "execution_count": 35,
   "id": "7dcfa9d0",
   "metadata": {},
   "outputs": [
    {
     "data": {
      "text/plain": [
       "3.0"
      ]
     },
     "execution_count": 35,
     "metadata": {},
     "output_type": "execute_result"
    }
   ],
   "source": [
    "q1=np.quantile(q,0.50)\n",
    "q1"
   ]
  },
  {
   "cell_type": "code",
   "execution_count": 36,
   "id": "8646c991",
   "metadata": {},
   "outputs": [
    {
     "data": {
      "text/plain": [
       "4.6"
      ]
     },
     "execution_count": 36,
     "metadata": {},
     "output_type": "execute_result"
    }
   ],
   "source": [
    "q1=np.quantile(q,0.90)\n",
    "q1"
   ]
  },
  {
   "cell_type": "markdown",
   "id": "6a021310",
   "metadata": {},
   "source": [
    "### Percentiles"
   ]
  },
  {
   "cell_type": "code",
   "execution_count": 39,
   "id": "00569c26",
   "metadata": {},
   "outputs": [
    {
     "data": {
      "text/plain": [
       "1.004"
      ]
     },
     "execution_count": 39,
     "metadata": {},
     "output_type": "execute_result"
    }
   ],
   "source": [
    "q1=np.percentile(q,0.10)\n",
    "q1"
   ]
  },
  {
   "cell_type": "code",
   "execution_count": 43,
   "id": "9f19ac61",
   "metadata": {},
   "outputs": [
    {
     "data": {
      "text/plain": [
       "1.02"
      ]
     },
     "execution_count": 43,
     "metadata": {},
     "output_type": "execute_result"
    }
   ],
   "source": [
    "q2=np.percentile(q,0.50)\n",
    "q2"
   ]
  },
  {
   "cell_type": "code",
   "execution_count": 42,
   "id": "bd985702",
   "metadata": {},
   "outputs": [
    {
     "data": {
      "text/plain": [
       "1.036"
      ]
     },
     "execution_count": 42,
     "metadata": {},
     "output_type": "execute_result"
    }
   ],
   "source": [
    "q1=np.percentile(q,0.90)\n",
    "q1"
   ]
  },
  {
   "cell_type": "code",
   "execution_count": 45,
   "id": "c2b61b11",
   "metadata": {},
   "outputs": [
    {
     "data": {
      "text/plain": [
       "1.0396"
      ]
     },
     "execution_count": 45,
     "metadata": {},
     "output_type": "execute_result"
    }
   ],
   "source": [
    "q1=np.percentile(q,0.99)\n",
    "q1"
   ]
  },
  {
   "cell_type": "markdown",
   "id": "5c31669c",
   "metadata": {},
   "source": [
    "### measure of dispersion"
   ]
  },
  {
   "cell_type": "markdown",
   "id": "80161168",
   "metadata": {},
   "source": [
    "### range"
   ]
  },
  {
   "cell_type": "code",
   "execution_count": 49,
   "id": "9b557cb7",
   "metadata": {},
   "outputs": [
    {
     "name": "stdout",
     "output_type": "stream",
     "text": [
      "range: 4\n"
     ]
    }
   ],
   "source": [
    "q=np.array([1,2,3,4,5])\n",
    "print(\"range:\", q.max()-q.min())"
   ]
  },
  {
   "cell_type": "markdown",
   "id": "81d52bd9",
   "metadata": {},
   "source": [
    "### variance"
   ]
  },
  {
   "cell_type": "code",
   "execution_count": 52,
   "id": "699418e4",
   "metadata": {},
   "outputs": [
    {
     "data": {
      "text/plain": [
       "2.0"
      ]
     },
     "execution_count": 52,
     "metadata": {},
     "output_type": "execute_result"
    }
   ],
   "source": [
    "np.var(q)"
   ]
  },
  {
   "cell_type": "code",
   "execution_count": 53,
   "id": "b7f0b484",
   "metadata": {},
   "outputs": [
    {
     "data": {
      "text/plain": [
       "34308.47222222222"
      ]
     },
     "execution_count": 53,
     "metadata": {},
     "output_type": "execute_result"
    }
   ],
   "source": [
    "b=[1,2,3,4,5,500]\n",
    "np.var(b)"
   ]
  },
  {
   "cell_type": "code",
   "execution_count": 54,
   "id": "8de1d280",
   "metadata": {},
   "outputs": [
    {
     "data": {
      "text/plain": [
       "0.01999999999999999"
      ]
     },
     "execution_count": 54,
     "metadata": {},
     "output_type": "execute_result"
    }
   ],
   "source": [
    "c=[1.1,1.2,1.3,1.4,1.5]\n",
    "np.var(c)"
   ]
  },
  {
   "cell_type": "markdown",
   "id": "40599205",
   "metadata": {},
   "source": [
    "### std deviation"
   ]
  },
  {
   "cell_type": "code",
   "execution_count": 61,
   "id": "3d59ecc7",
   "metadata": {},
   "outputs": [
    {
     "data": {
      "text/plain": [
       "185.22546321233003"
      ]
     },
     "execution_count": 61,
     "metadata": {},
     "output_type": "execute_result"
    }
   ],
   "source": [
    "np.std(b)"
   ]
  },
  {
   "cell_type": "code",
   "execution_count": 62,
   "id": "fa195f0f",
   "metadata": {},
   "outputs": [
    {
     "data": {
      "text/plain": [
       "1.4142135623730951"
      ]
     },
     "execution_count": 62,
     "metadata": {},
     "output_type": "execute_result"
    }
   ],
   "source": [
    "np.std(a)"
   ]
  },
  {
   "cell_type": "markdown",
   "id": "e658f39d",
   "metadata": {},
   "source": [
    "### IQR"
   ]
  },
  {
   "cell_type": "code",
   "execution_count": 59,
   "id": "ceff20a0",
   "metadata": {},
   "outputs": [
    {
     "data": {
      "text/plain": [
       "2.0"
      ]
     },
     "execution_count": 59,
     "metadata": {},
     "output_type": "execute_result"
    }
   ],
   "source": [
    "q3=np.quantile(q,0.75)\n",
    "\n",
    "q1=np.quantile(q,0.25)\n",
    "\n",
    "iqr=q3-q1\n",
    "iqr\n"
   ]
  },
  {
   "cell_type": "markdown",
   "id": "9bf09662",
   "metadata": {},
   "source": [
    "### skewness"
   ]
  },
  {
   "cell_type": "code",
   "execution_count": 78,
   "id": "7629d22b",
   "metadata": {},
   "outputs": [
    {
     "data": {
      "text/plain": [
       "3.0"
      ]
     },
     "execution_count": 78,
     "metadata": {},
     "output_type": "execute_result"
    }
   ],
   "source": [
    "a=[1,2,3,4,5]\n",
    "b=np.mean(a)\n",
    "b"
   ]
  },
  {
   "cell_type": "code",
   "execution_count": 67,
   "id": "d0da8a7d",
   "metadata": {},
   "outputs": [
    {
     "data": {
      "text/plain": [
       "3.0"
      ]
     },
     "execution_count": 67,
     "metadata": {},
     "output_type": "execute_result"
    }
   ],
   "source": [
    "c=np.median(a)\n",
    "c"
   ]
  },
  {
   "cell_type": "code",
   "execution_count": 70,
   "id": "551a53d2",
   "metadata": {},
   "outputs": [
    {
     "data": {
      "text/plain": [
       "1.4142135623730951"
      ]
     },
     "execution_count": 70,
     "metadata": {},
     "output_type": "execute_result"
    }
   ],
   "source": [
    "d=np.std(a)\n",
    "d"
   ]
  },
  {
   "cell_type": "code",
   "execution_count": 73,
   "id": "2ff26079",
   "metadata": {},
   "outputs": [
    {
     "data": {
      "text/plain": [
       "0.0"
      ]
     },
     "execution_count": 73,
     "metadata": {},
     "output_type": "execute_result"
    }
   ],
   "source": [
    "e=3*(b-c)/d\n",
    "e"
   ]
  },
  {
   "cell_type": "code",
   "execution_count": 74,
   "id": "f7ca76f9",
   "metadata": {},
   "outputs": [
    {
     "data": {
      "text/plain": [
       "5.333333333333333"
      ]
     },
     "execution_count": 74,
     "metadata": {},
     "output_type": "execute_result"
    }
   ],
   "source": [
    "a=[1,2,3,4,5,17]\n",
    "b=np.mean(a)\n",
    "b"
   ]
  },
  {
   "cell_type": "code",
   "execution_count": 75,
   "id": "f1ba89e8",
   "metadata": {},
   "outputs": [
    {
     "data": {
      "text/plain": [
       "3.5"
      ]
     },
     "execution_count": 75,
     "metadata": {},
     "output_type": "execute_result"
    }
   ],
   "source": [
    "c=np.median(a)\n",
    "c"
   ]
  },
  {
   "cell_type": "code",
   "execution_count": 76,
   "id": "88f2dd4d",
   "metadata": {},
   "outputs": [
    {
     "data": {
      "text/plain": [
       "5.3748384988657"
      ]
     },
     "execution_count": 76,
     "metadata": {},
     "output_type": "execute_result"
    }
   ],
   "source": [
    "d=np.std(a)\n",
    "d"
   ]
  },
  {
   "cell_type": "code",
   "execution_count": 77,
   "id": "8c57280a",
   "metadata": {},
   "outputs": [
    {
     "data": {
      "text/plain": [
       "1.0232865603609695"
      ]
     },
     "execution_count": 77,
     "metadata": {},
     "output_type": "execute_result"
    }
   ],
   "source": [
    "e=3*(b-c)/d\n",
    "e"
   ]
  },
  {
   "cell_type": "code",
   "execution_count": null,
   "id": "d0ef322f",
   "metadata": {},
   "outputs": [],
   "source": []
  }
 ],
 "metadata": {
  "kernelspec": {
   "display_name": "Python 3",
   "language": "python",
   "name": "python3"
  },
  "language_info": {
   "codemirror_mode": {
    "name": "ipython",
    "version": 3
   },
   "file_extension": ".py",
   "mimetype": "text/x-python",
   "name": "python",
   "nbconvert_exporter": "python",
   "pygments_lexer": "ipython3",
   "version": "3.8.8"
  }
 },
 "nbformat": 4,
 "nbformat_minor": 5
}
