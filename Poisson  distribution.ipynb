{
 "cells": [
  {
   "cell_type": "markdown",
   "id": "c805d4b8",
   "metadata": {},
   "source": [
    "### Poisson  distribution"
   ]
  },
  {
   "cell_type": "code",
   "execution_count": 1,
   "id": "fc1ac118",
   "metadata": {},
   "outputs": [],
   "source": [
    "# given that a bank has a footfall of 6 people per minute , find out the a\n",
    "# a)probability distribution for upto 20 minutes\n",
    "#b) probability of atleast 4 people per minute"
   ]
  },
  {
   "cell_type": "code",
   "execution_count": 3,
   "id": "ea99ec66",
   "metadata": {},
   "outputs": [],
   "source": [
    "import numpy as np\n",
    "import scipy.stats as stats\n",
    "import matplotlib.pyplot as plt"
   ]
  },
  {
   "cell_type": "code",
   "execution_count": 4,
   "id": "9cdfb305",
   "metadata": {},
   "outputs": [],
   "source": [
    "rate = 6"
   ]
  },
  {
   "cell_type": "code",
   "execution_count": 5,
   "id": "85ffc767",
   "metadata": {},
   "outputs": [
    {
     "data": {
      "text/plain": [
       "array([ 0,  1,  2,  3,  4,  5,  6,  7,  8,  9, 10, 11, 12, 13, 14, 15, 16,\n",
       "       17, 18, 19, 20])"
      ]
     },
     "execution_count": 5,
     "metadata": {},
     "output_type": "execute_result"
    }
   ],
   "source": [
    "n=np.arange(0,21)\n",
    "n"
   ]
  },
  {
   "cell_type": "code",
   "execution_count": 6,
   "id": "5bc22a84",
   "metadata": {},
   "outputs": [
    {
     "data": {
      "text/plain": [
       "array([2.47875218e-03, 1.48725131e-02, 4.46175392e-02, 8.92350784e-02,\n",
       "       1.33852618e-01, 1.60623141e-01, 1.60623141e-01, 1.37676978e-01,\n",
       "       1.03257734e-01, 6.88384890e-02, 4.13030934e-02, 2.25289600e-02,\n",
       "       1.12644800e-02, 5.19899078e-03, 2.22813891e-03, 8.91255562e-04,\n",
       "       3.34220836e-04, 1.17960295e-04, 3.93200983e-05, 1.24168732e-05,\n",
       "       3.72506195e-06])"
      ]
     },
     "execution_count": 6,
     "metadata": {},
     "output_type": "execute_result"
    }
   ],
   "source": [
    "poisson=stats.poisson.pmf(n,rate)\n",
    "poisson"
   ]
  },
  {
   "cell_type": "code",
   "execution_count": 7,
   "id": "846efe5e",
   "metadata": {},
   "outputs": [
    {
     "data": {
      "text/plain": [
       "0.8487961172233521"
      ]
     },
     "execution_count": 7,
     "metadata": {},
     "output_type": "execute_result"
    }
   ],
   "source": [
    "1-(poisson[0]+poisson[1]+poisson[2]+poisson[3])"
   ]
  },
  {
   "cell_type": "code",
   "execution_count": 8,
   "id": "e0eda0bf",
   "metadata": {},
   "outputs": [
    {
     "data": {
      "image/png": "[encoded data removed]",
      "text/plain": [
       "<Figure size 432x288 with 1 Axes>"
      ]
     },
     "metadata": {
      "needs_background": "light"
     },
     "output_type": "display_data"
    }
   ],
   "source": [
    "plt.plot(n,poisson,'*-')\n",
    "#plt.title('poisson: $\\lambda$=%i' % rate, fontsize=15)\n",
    "plt.xlabel('number of customer arriving in a minute')\n",
    "plt.ylabel('probability of no of customer arriving in a minute')\n",
    "plt.show()"
   ]
  },
  {
   "cell_type": "code",
   "execution_count": 27,
   "id": "8c939325",
   "metadata": {},
   "outputs": [
    {
     "data": {
      "text/plain": [
       "0.9999985448930097"
      ]
     },
     "execution_count": 27,
     "metadata": {},
     "output_type": "execute_result"
    }
   ],
   "source": [
    "sum(poisson)  "
   ]
  },
  {
   "cell_type": "code",
   "execution_count": null,
   "id": "f29985b3",
   "metadata": {},
   "outputs": [],
   "source": []
  }
 ],
 "metadata": {
  "kernelspec": {
   "display_name": "Python 3",
   "language": "python",
   "name": "python3"
  },
  "language_info": {
   "codemirror_mode": {
    "name": "ipython",
    "version": 3
   },
   "file_extension": ".py",
   "mimetype": "text/x-python",
   "name": "python",
   "nbconvert_exporter": "python",
   "pygments_lexer": "ipython3",
   "version": "3.8.8"
  }
 },
 "nbformat": 4,
 "nbformat_minor": 5
}
